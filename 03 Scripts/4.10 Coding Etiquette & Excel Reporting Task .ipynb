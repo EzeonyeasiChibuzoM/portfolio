{
 "cells": [
  {
   "cell_type": "code",
   "execution_count": 2,
   "id": "b0e51cea",
   "metadata": {},
   "outputs": [],
   "source": [
    "# Import libraries\n",
    "import pandas as pd\n",
    "import numpy as np\n",
    "import os\n",
    "import matplotlib.pyplot as plt\n",
    "import seaborn as sns\n",
    "import scipy"
   ]
  },
  {
   "cell_type": "code",
   "execution_count": 3,
   "id": "e00042f9",
   "metadata": {},
   "outputs": [],
   "source": [
    "# Import data\n",
    "path = r'C:\\\\Users\\\\nakarton\\\\Downloads\\\\NakartonDataFiles\\\\09.01.24_Instacart Basket Analysis'"
   ]
  },
  {
   "cell_type": "code",
   "execution_count": 4,
   "id": "f5028eb2",
   "metadata": {},
   "outputs": [
    {
     "data": {
      "text/plain": [
       "'C:\\\\\\\\Users\\\\\\\\nakarton\\\\\\\\Downloads\\\\\\\\NakartonDataFiles\\\\\\\\09.01.24_Instacart Basket Analysis'"
      ]
     },
     "execution_count": 4,
     "metadata": {},
     "output_type": "execute_result"
    }
   ],
   "source": [
    "path"
   ]
  },
  {
   "cell_type": "code",
   "execution_count": 5,
   "id": "dfec4073",
   "metadata": {},
   "outputs": [
    {
     "ename": "MemoryError",
     "evalue": "",
     "output_type": "error",
     "traceback": [
      "\u001b[1;31m---------------------------------------------------------------------------\u001b[0m",
      "\u001b[1;31mMemoryError\u001b[0m                               Traceback (most recent call last)",
      "Cell \u001b[1;32mIn[5], line 2\u001b[0m\n\u001b[0;32m      1\u001b[0m \u001b[38;5;66;03m# Import grouped df_ords_prods_merge\u001b[39;00m\n\u001b[1;32m----> 2\u001b[0m df_ords_prods_cust \u001b[38;5;241m=\u001b[39m pd\u001b[38;5;241m.\u001b[39mread_pickle(os\u001b[38;5;241m.\u001b[39mpath\u001b[38;5;241m.\u001b[39mjoin(path, \u001b[38;5;124m'\u001b[39m\u001b[38;5;124m02 Data\u001b[39m\u001b[38;5;124m'\u001b[39m,\u001b[38;5;124m'\u001b[39m\u001b[38;5;124mPrepared Data\u001b[39m\u001b[38;5;124m'\u001b[39m, \u001b[38;5;124m'\u001b[39m\u001b[38;5;124mChibuzo_sample.pkl\u001b[39m\u001b[38;5;124m'\u001b[39m))\n",
      "File \u001b[1;32m~\\anaconda3\\Lib\\site-packages\\pandas\\io\\pickle.py:206\u001b[0m, in \u001b[0;36mread_pickle\u001b[1;34m(filepath_or_buffer, compression, storage_options)\u001b[0m\n\u001b[0;32m    203\u001b[0m     \u001b[38;5;28;01mwith\u001b[39;00m warnings\u001b[38;5;241m.\u001b[39mcatch_warnings(record\u001b[38;5;241m=\u001b[39m\u001b[38;5;28;01mTrue\u001b[39;00m):\n\u001b[0;32m    204\u001b[0m         \u001b[38;5;66;03m# We want to silence any warnings about, e.g. moved modules.\u001b[39;00m\n\u001b[0;32m    205\u001b[0m         warnings\u001b[38;5;241m.\u001b[39msimplefilter(\u001b[38;5;124m\"\u001b[39m\u001b[38;5;124mignore\u001b[39m\u001b[38;5;124m\"\u001b[39m, \u001b[38;5;167;01mWarning\u001b[39;00m)\n\u001b[1;32m--> 206\u001b[0m         \u001b[38;5;28;01mreturn\u001b[39;00m pickle\u001b[38;5;241m.\u001b[39mload(handles\u001b[38;5;241m.\u001b[39mhandle)\n\u001b[0;32m    207\u001b[0m \u001b[38;5;28;01mexcept\u001b[39;00m excs_to_catch:\n\u001b[0;32m    208\u001b[0m     \u001b[38;5;66;03m# e.g.\u001b[39;00m\n\u001b[0;32m    209\u001b[0m     \u001b[38;5;66;03m#  \"No module named 'pandas.core.sparse.series'\"\u001b[39;00m\n\u001b[0;32m    210\u001b[0m     \u001b[38;5;66;03m#  \"Can't get attribute '__nat_unpickle' on <module 'pandas._libs.tslib\"\u001b[39;00m\n\u001b[0;32m    211\u001b[0m     \u001b[38;5;28;01mreturn\u001b[39;00m pc\u001b[38;5;241m.\u001b[39mload(handles\u001b[38;5;241m.\u001b[39mhandle, encoding\u001b[38;5;241m=\u001b[39m\u001b[38;5;28;01mNone\u001b[39;00m)\n",
      "\u001b[1;31mMemoryError\u001b[0m: "
     ]
    }
   ],
   "source": [
    "# Import grouped df_ords_prods_merge\n",
    "df_ords_prods_cust = pd.read_pickle(os.path.join(path, '02 Data','Prepared Data', 'Chibuzo_sample.pkl'))"
   ]
  },
  {
   "cell_type": "code",
   "execution_count": null,
   "id": "0de5af97",
   "metadata": {},
   "outputs": [],
   "source": [
    "df_ords_prods_cust.columns"
   ]
  },
  {
   "cell_type": "code",
   "execution_count": null,
   "id": "0191e27c",
   "metadata": {},
   "outputs": [],
   "source": [
    "# Displays all rows when listed\n",
    "pd.options.display.max_rows = None"
   ]
  },
  {
   "cell_type": "code",
   "execution_count": null,
   "id": "e02961fd",
   "metadata": {},
   "outputs": [],
   "source": [
    "# displays all columns when listed\n",
    "pd.options.display.max_columns = None"
   ]
  },
  {
   "cell_type": "code",
   "execution_count": null,
   "id": "dace404c",
   "metadata": {},
   "outputs": [],
   "source": [
    "# Address any PII data\n",
    "# The customer dataset does not contain some information about their email,address, national id etc. "
   ]
  },
  {
   "cell_type": "code",
   "execution_count": null,
   "id": "df8ac343",
   "metadata": {},
   "outputs": [],
   "source": [
    "# Compare customer behavior in different geographic areas\n",
    "df_ords_prods_cust.info()"
   ]
  },
  {
   "cell_type": "code",
   "execution_count": null,
   "id": "aa35b286",
   "metadata": {},
   "outputs": [],
   "source": [
    "# Region-wise distribution of states done based on wikipedia link below\n",
    "# https://simple.wikipedia.org/wiki/List_of_regions_of_the_United_States"
   ]
  },
  {
   "cell_type": "code",
   "execution_count": null,
   "id": "91e6b4fb",
   "metadata": {},
   "outputs": [],
   "source": [
    "# Create a column 'Region' based on the 'State' column for Northeast region\n",
    "northeast_states = ['Maine', 'New Hampshire', 'Vermont', 'Massachusetts', 'Rhode Island', 'Connecticut', 'New York', 'Pennsylvania', 'New Jersey']\n",
    "df_ords_prods_cust['region'] = df_ords_prods_cust['state'].apply(lambda x: 'Northeast' if x in northeast_states else None)\n"
   ]
  },
  {
   "cell_type": "code",
   "execution_count": null,
   "id": "abb421b4",
   "metadata": {},
   "outputs": [],
   "source": [
    "# Create a column 'Region' based on the 'State' column for Midwest region\n",
    "midwest_states = ['Ohio', 'Michigan', 'Indiana', 'Wisconsin', 'Illinois', 'Minnesota', 'Iowa', 'Missouri', 'North Dakota', 'South Dakota', 'Nebraska', 'Kansas']\n",
    "df_ords_prods_cust['region'] = df_ords_prods_cust['state'].apply(lambda x: 'Midwest' if x in midwest_states else None)\n"
   ]
  },
  {
   "cell_type": "code",
   "execution_count": null,
   "id": "3d16a7f4",
   "metadata": {},
   "outputs": [],
   "source": [
    "# Create a column 'Region' based on the 'State' column for South region\n",
    "south_states = ['Texas', 'Oklahoma', 'Arkansas', 'Louisiana', 'Mississippi', 'Alabama', 'Tennessee', 'Kentucky', 'Florida', 'Georgia', 'South Carolina', 'North Carolina', 'Virginia', 'West Virginia', 'Maryland', 'Delaware', 'District of Columbia']\n",
    "df_ords_prods_cust['region'] = df_ords_prods_cust['state'].apply(lambda x: 'South' if x in south_states else None)\n"
   ]
  },
  {
   "cell_type": "code",
   "execution_count": null,
   "id": "38dd082c",
   "metadata": {},
   "outputs": [],
   "source": [
    "# Create a column 'Region' based on the 'State' column for West region\n",
    "west_states = ['Washington', 'Oregon', 'California', 'Nevada', 'Idaho', 'Utah', 'Arizona', 'Montana', 'Wyoming', 'Colorado', 'New Mexico', 'Alaska', 'Hawaii']\n",
    "df_ords_prods_cust['region'] = df_ords_prods_cust['state'].apply(lambda x: 'West' if x in west_states else None)\n"
   ]
  },
  {
   "cell_type": "code",
   "execution_count": null,
   "id": "17e24c0a",
   "metadata": {},
   "outputs": [],
   "source": [
    "# Look for newly added values\n",
    "df_ords_prods_cust.loc[df_ords_prods_cust['region']=='West'].head()"
   ]
  },
  {
   "cell_type": "code",
   "execution_count": null,
   "id": "7bb6625d",
   "metadata": {},
   "outputs": [],
   "source": [
    "# look at the Region and Spending flag\n",
    "df_ords_prods_cust[['region','spending_flag']].head(100)"
   ]
  },
  {
   "cell_type": "code",
   "execution_count": null,
   "id": "cd535921",
   "metadata": {},
   "outputs": [],
   "source": [
    "# Check the data type of new column 'region\n",
    "df_ords_prods_cust.region.dtype"
   ]
  },
  {
   "cell_type": "code",
   "execution_count": null,
   "id": "1397e967",
   "metadata": {},
   "outputs": [],
   "source": [
    "# Find the frequency of values in 'region'\n",
    "df_ords_prods_cust['spending_flag'].value_counts(dropna=False)"
   ]
  },
  {
   "cell_type": "code",
   "execution_count": null,
   "id": "d58db40c",
   "metadata": {},
   "outputs": [],
   "source": [
    "# Effects on spending based on region\n",
    "# Create pivot table that aggregates spending habits based on region\n",
    "df_ords_prods_cust_2 = df_ords_prods_cust.pivot_table(index = 'region', columns = 'spending_flag', aggfunc = 'size', fill_value = 0)"
   ]
  },
  {
   "cell_type": "code",
   "execution_count": null,
   "id": "8594e77c",
   "metadata": {},
   "outputs": [],
   "source": [
    "df_ords_prods_cust_2"
   ]
  },
  {
   "cell_type": "code",
   "execution_count": null,
   "id": "2cb13c23",
   "metadata": {},
   "outputs": [],
   "source": [
    "# Total spent in each region\n",
    "df_ords_prods_cust.groupby('region')['prices'].sum()"
   ]
  },
  {
   "cell_type": "code",
   "execution_count": null,
   "id": "ed71dbfa",
   "metadata": {},
   "outputs": [],
   "source": [
    "# Spending habits based on regions in the US:\n",
    "# South spends the highest\n",
    "# West spends the 2nd highest\n",
    "# Midwest is third\n",
    "# Northeast has the least spending habit"
   ]
  },
  {
   "cell_type": "code",
   "execution_count": null,
   "id": "f1c8b20e",
   "metadata": {},
   "outputs": [],
   "source": [
    "# Create an exclusion flag for low-activity customers and exclude them from the data.  Export this sample."
   ]
  },
  {
   "cell_type": "code",
   "execution_count": null,
   "id": "beb0c50f",
   "metadata": {},
   "outputs": [],
   "source": [
    "# Create a column 'exclusion_flag' with 'max_order' less than 5 condition\\n\",\n",
    "df_ords_prods_cust.loc[df_ords_prods_cust['max_order']<5,'exclusion_flag']='Exclude <5 orders'"
   ]
  },
  {
   "cell_type": "code",
   "execution_count": null,
   "id": "50f8373b",
   "metadata": {},
   "outputs": [],
   "source": [
    "# Create a column 'exclusion_flag' with 'max_order' greater than or equal to 5 condition\n",
    "df_ords_prods_cust.loc[df_ords_prods_cust['max_order']>=5,'exclusion_flag']='Keep >=5 orders'"
   ]
  },
  {
   "cell_type": "code",
   "execution_count": null,
   "id": "fd7c12e1",
   "metadata": {},
   "outputs": [],
   "source": [
    "# Look at the value count of 'exclusion_flag' column\n",
    "df_ords_prods_cust['exclusion_flag'].value_counts(dropna=False)"
   ]
  },
  {
   "cell_type": "code",
   "execution_count": null,
   "id": "783748b4",
   "metadata": {},
   "outputs": [],
   "source": [
    "# Assign rows to be excluded to the dataframe 'df_exclude'\n",
    "df_exclude=df_ords_prods_cust[df_ords_prods_cust['exclusion_flag']=='Exclude <5 orders']"
   ]
  },
  {
   "cell_type": "code",
   "execution_count": null,
   "id": "947840e3",
   "metadata": {},
   "outputs": [],
   "source": [
    "# dimension of the dataframe\n",
    "df_exclude.shape"
   ]
  },
  {
   "cell_type": "code",
   "execution_count": null,
   "id": "5fdfa6d5",
   "metadata": {},
   "outputs": [],
   "source": [
    "# Assign rows to be kept to the dataframe 'df_keep'\n",
    "df_keep=df_ords_prods_cust[df_ords_prods_cust['exclusion_flag']=='Keep >=5 orders']"
   ]
  },
  {
   "cell_type": "code",
   "execution_count": null,
   "id": "dc5a64c4",
   "metadata": {},
   "outputs": [],
   "source": [
    "# Dimension of the dataframe\n",
    "df_keep.shape"
   ]
  },
  {
   "cell_type": "code",
   "execution_count": null,
   "id": "cbc98e45",
   "metadata": {},
   "outputs": [],
   "source": [
    "# Export df_exclude dataframe with below 5 orders to 'Exclude_below5_ordrs.csv'\n",
    "df_exclude.to_csv(os.path.join(path,'02 Data','Prepared Data','Exclude_below5_orders.csv'))"
   ]
  },
  {
   "cell_type": "code",
   "execution_count": null,
   "id": "5958afe3",
   "metadata": {},
   "outputs": [],
   "source": [
    "#Create a profiling variable based on age, income, certain goods in the “department_id” column, and number of dependents."
   ]
  },
  {
   "cell_type": "code",
   "execution_count": null,
   "id": "0bf0c45c",
   "metadata": {},
   "outputs": [],
   "source": [
    "df_keep.describe().apply(lambda x: x.apply('{0:.5f}'.format))"
   ]
  },
  {
   "cell_type": "code",
   "execution_count": null,
   "id": "90145140",
   "metadata": {},
   "outputs": [],
   "source": [
    "# The age of customers are 33 at 25th percentile, 49 at 50th percentile and 65 at 75th percentile. Based on this distribution, age_flag catagories have been decided."
   ]
  },
  {
   "cell_type": "code",
   "execution_count": null,
   "id": "29713ad3",
   "metadata": {},
   "outputs": [],
   "source": [
    "# Create 'age_flag' column based on 'age' less than 33\n",
    "df_keep.loc[(df_keep['age']<33),'age_flag']='Young adult'"
   ]
  },
  {
   "cell_type": "code",
   "execution_count": null,
   "id": "080e4685",
   "metadata": {},
   "outputs": [],
   "source": [
    "# Create 'age_flag' column based on 'age' for ages between 33 & 65\n",
    "df_keep.loc[(df_keep['age']>=33) & (df_keep['age']<65),'age_flag']='Middle aged'"
   ]
  },
  {
   "cell_type": "code",
   "execution_count": null,
   "id": "9b99a71d",
   "metadata": {},
   "outputs": [],
   "source": [
    "# Create 'age_flag' column based on 'age' for ages above 65\n",
    "df_keep.loc[df_keep['age']>=65,'age_flag']='Senior citizen'"
   ]
  },
  {
   "cell_type": "code",
   "execution_count": null,
   "id": "bba018e4",
   "metadata": {},
   "outputs": [],
   "source": [
    "# Look at the value count of 'age_flag' column\n",
    "df_keep['age_flag'].value_counts(dropna=False)"
   ]
  },
  {
   "cell_type": "code",
   "execution_count": null,
   "id": "0fe2b530",
   "metadata": {},
   "outputs": [],
   "source": [
    "# The income of customers are -65 at 25th percentile, -2 at 50th percentile and 63 at 75th percentile. Based on this distribution, income_flag catagories have been decided."
   ]
  },
  {
   "cell_type": "code",
   "execution_count": null,
   "id": "56981059",
   "metadata": {},
   "outputs": [],
   "source": [
    "# Create 'income_flag' column based on 'income' less than -65\n",
    "df_keep.loc[df_keep['income']<-65,'income_flag']='Low income'"
   ]
  },
  {
   "cell_type": "code",
   "execution_count": null,
   "id": "9da837bf",
   "metadata": {},
   "outputs": [],
   "source": [
    "# Create 'income_flag' column based on 'income' between -65 and -2\n",
    "df_keep.loc[(df_keep['income']>=-65) & (df_keep['income']<-2),'income_flag']='Medium income'"
   ]
  },
  {
   "cell_type": "code",
   "execution_count": null,
   "id": "24026b66",
   "metadata": {},
   "outputs": [],
   "source": [
    "# Create 'income_flag' column based on 'income' between 96700 and 127988\n",
    "df_keep.loc[(df_keep['income']>=-2) & (df_keep['income']<63),'income_flag']='High income'"
   ]
  },
  {
   "cell_type": "code",
   "execution_count": null,
   "id": "de1b6b81",
   "metadata": {},
   "outputs": [],
   "source": [
    "# Create 'income_flag' column based on 'income' greater than 127988\n",
    "df_keep.loc[df_keep['income']>=63,'income_flag']='Very high income'"
   ]
  },
  {
   "cell_type": "code",
   "execution_count": null,
   "id": "92c54e8f",
   "metadata": {},
   "outputs": [],
   "source": [
    "df_keep['orders_day_of_week'].value_counts()"
   ]
  },
  {
   "cell_type": "code",
   "execution_count": null,
   "id": "b8f488a1",
   "metadata": {},
   "outputs": [],
   "source": [
    "# Creating a data list\n",
    "orders_week_flag_data={'Saturday':6107725,'Sunday':5572954,'Monday':4147880,'Tuesday':3785966,'Wednesday':3733707,'Thursday':4152834,'Friday':4428913}"
   ]
  },
  {
   "cell_type": "code",
   "execution_count": null,
   "id": "365f3047",
   "metadata": {},
   "outputs": [],
   "source": [
    "week_category=list(orders_week_flag_data.keys())"
   ]
  },
  {
   "cell_type": "code",
   "execution_count": null,
   "id": "1c040a37",
   "metadata": {},
   "outputs": [],
   "source": [
    "week_count=list(orders_week_flag_data.values())"
   ]
  },
  {
   "cell_type": "code",
   "execution_count": null,
   "id": "27e4555f",
   "metadata": {},
   "outputs": [],
   "source": [
    "colors=['maroon','maroon','rosybrown','indianred','indianred','rosybrown','rosybrown']"
   ]
  },
  {
   "cell_type": "code",
   "execution_count": null,
   "id": "756d0648",
   "metadata": {},
   "outputs": [],
   "source": [
    "# Setting the size of the bar chart\n",
    "plt.figure(figsize=(7,7))"
   ]
  },
  {
   "cell_type": "code",
   "execution_count": null,
   "id": "906e4df7",
   "metadata": {},
   "outputs": [],
   "source": [
    "# Generate a bar chart\n",
    "bar_week=plt.bar(week_category,week_count,color=colors,width=0.5)"
   ]
  },
  {
   "cell_type": "code",
   "execution_count": null,
   "id": "178ee3f2",
   "metadata": {},
   "outputs": [],
   "source": [
    "# Create a bar chart to show the correlation between age and income"
   ]
  },
  {
   "cell_type": "code",
   "execution_count": null,
   "id": "f481ba8b",
   "metadata": {},
   "outputs": [],
   "source": [
    "a=df_keep.groupby('age').agg({'income': ['mean']})"
   ]
  },
  {
   "cell_type": "code",
   "execution_count": null,
   "id": "810f8139",
   "metadata": {},
   "outputs": [],
   "source": [
    "print(a)"
   ]
  },
  {
   "cell_type": "code",
   "execution_count": null,
   "id": "8e040957",
   "metadata": {},
   "outputs": [],
   "source": [
    "df_keep['income'].value_counts(dropna=False)"
   ]
  },
  {
   "cell_type": "code",
   "execution_count": null,
   "id": "413c2df7",
   "metadata": {},
   "outputs": [],
   "source": [
    "# Creating a data list\n",
    "age_income_data={'18':70545,'19':69847,'20':70854,'21':70615,'22':69929,'23':70846,'24':71971,'25':71122,'26':70589,'27':70666,'28':69555,'29':70355,'30':69562,'31':70207,'32':70195,'33':70787,'34':70862,'35':71410,'36':71134,'37':70404,'38':69916,'39':70836,'40':70958,'41':116646,'42':116783,'43':117040,'44':114969,'45':117671,'46':115610,'47':115396,'48':117521,'49':116955,'50':116206,'51':115016,'52':114489,'53':114930,'54':115319,'55':112956,'56':117210,'57':116020,'58':116008,'59':114610,'60':115350,'61':116141,'62':115430,'63':116958,'64':116683,'65':116853,'66':115107,'67':115398,'68':116007,'69':115930,'70':113487,'71':114773,'72':117422,'73':115138,'74':114944,'75':118015,'76':115077,'77':116711,'78':117270,'79':115314,'80':114338,'81':115231}\n",
    "    "
   ]
  },
  {
   "cell_type": "code",
   "execution_count": null,
   "id": "bcf124e7",
   "metadata": {},
   "outputs": [],
   "source": [
    "income_category=list(age_income_data.keys())"
   ]
  },
  {
   "cell_type": "code",
   "execution_count": null,
   "id": "21aefa34",
   "metadata": {},
   "outputs": [],
   "source": [
    "income_count=list(age_income_data.values())"
   ]
  },
  {
   "cell_type": "code",
   "execution_count": null,
   "id": "e739ce4f",
   "metadata": {},
   "outputs": [],
   "source": [
    "colors=['maroon','maroon','rosybrown','indianred','indianred','rosybrown','rosybrown']"
   ]
  },
  {
   "cell_type": "code",
   "execution_count": null,
   "id": "1d1e62d1",
   "metadata": {},
   "outputs": [],
   "source": [
    "# Setting the size of the bar chart\n",
    "plt.figure(figsize=(50,50))"
   ]
  },
  {
   "cell_type": "code",
   "execution_count": null,
   "id": "7405a0fe",
   "metadata": {},
   "outputs": [],
   "source": [
    "# Generate a bar chart\n",
    "bar_income=plt.bar(income_category,income_count,color='lightgreen',width=.3)"
   ]
  },
  {
   "cell_type": "code",
   "execution_count": null,
   "id": "53d4cd00",
   "metadata": {
    "scrolled": true
   },
   "outputs": [],
   "source": [
    "# X axis label\n",
    "plt.xlabel('Customer age')"
   ]
  },
  {
   "cell_type": "code",
   "execution_count": null,
   "id": "fd35df27",
   "metadata": {},
   "outputs": [],
   "source": [
    "# X axis label\n",
    "plt.xlabel('Orders day of week')"
   ]
  },
  {
   "cell_type": "code",
   "execution_count": null,
   "id": "b20846cd",
   "metadata": {},
   "outputs": [],
   "source": [
    "# Rotate the x axis labels to 45 degrees\n",
    "plt.xticks(rotation=45)"
   ]
  },
  {
   "cell_type": "code",
   "execution_count": null,
   "id": "c40de3ee",
   "metadata": {},
   "outputs": [],
   "source": [
    "# Y axis label\n",
    "plt.ylabel('No. of orders')"
   ]
  },
  {
   "cell_type": "code",
   "execution_count": null,
   "id": "dfcd208c",
   "metadata": {},
   "outputs": [],
   "source": [
    "# Chart title\n",
    "plt.title('Orders during the week')"
   ]
  },
  {
   "cell_type": "code",
   "execution_count": null,
   "id": "0ee2130c",
   "metadata": {},
   "outputs": [],
   "source": [
    "# save barchart as png file\n",
    "plt.savefig(os.path.join(path, '04 Analysis','Visualizations', 'bar_income_age_spending.png'),bbox_inches='tight')"
   ]
  },
  {
   "cell_type": "code",
   "execution_count": null,
   "id": "65550706",
   "metadata": {},
   "outputs": [],
   "source": [
    "plt.show()"
   ]
  },
  {
   "cell_type": "code",
   "execution_count": null,
   "id": "48fa6b56",
   "metadata": {},
   "outputs": [],
   "source": [
    "# Create number of dependents category\n",
    "# Create 'dependants_flag' column based on 'no_of_dependants'\n",
    "df_keep.loc[df_keep['no_of_dependants']==0,'dependants_flag']='No dependants'"
   ]
  },
  {
   "cell_type": "code",
   "execution_count": null,
   "id": "09f6c92f",
   "metadata": {},
   "outputs": [],
   "source": [
    "# Create 'dependants_flag' column based on 'no_of_dependants\n",
    "df_keep.loc[df_keep['no_of_dependants']>0,'dependants_flag']='Have dependants'"
   ]
  },
  {
   "cell_type": "code",
   "execution_count": null,
   "id": "74903697",
   "metadata": {},
   "outputs": [],
   "source": [
    "df_keep['dependants_flag'].value_counts(dropna=False)"
   ]
  },
  {
   "cell_type": "code",
   "execution_count": null,
   "id": "2d818038",
   "metadata": {},
   "outputs": [],
   "source": [
    "# Create customer profiles\n",
    "# The following 24 customer profiles would be created below:\n",
    "1)Young adult-Low income-No dependants\n",
    "2)Young adult-Medium income-No dependants\n",
    "3)Young adult-High income-No dependants\n",
    "4)Young adult-Very high income-No dependants\n",
    "5)Middle aged-Low income-No dependants\n",
    "6)Middle aged-Medium income-No dependants\n",
    "7)Middle aged-High income-No dependants\n",
    "8)Middle aged-Very high income-No dependants\n",
    "9)Senior citizen-Low income-No dependants\n",
    "10)Senior citizen-Medium income-No dependants\n",
    "11)Senior citizen-High income-No dependants\n",
    "12)Senior citizen-Very high income-No dependants\n",
    "13)Young adult-Low income-Have dependants\n",
    "14)Young adult-Medium income-Have dependants\n",
    "15)Young adult-High income-Have dependants\n",
    "16)Young adult-Very high income-Have dependants\n",
    "17)Middle aged-Low income-Have dependants\n",
    "18)Middle aged-Medium income-Have dependants\n",
    "19)Middle aged-High income-Have dependants\n",
    "20)Middle aged-Very high income-Have dependants\n",
    "21)Senior citizen-Low income-Have dependants\n",
    "22)Senior citizen-Medium income-Have dependants\n",
    "23)Senior citizen-High income-Have dependants\n",
    "24)Senior citizen-Very high income-Have dependants"
   ]
  },
  {
   "cell_type": "code",
   "execution_count": null,
   "id": "5bde89a5",
   "metadata": {},
   "outputs": [],
   "source": [
    "#Create 'customer_profile' column with profiles 1,2,3 & 4"
   ]
  },
  {
   "cell_type": "code",
   "execution_count": null,
   "id": "89647724",
   "metadata": {},
   "outputs": [],
   "source": [
    "df_keep.loc[(df_keep['age_flag']=='Young adult') & (df_keep['income_flag']=='Low income') & (df_keep['dependants_flag']=='No dependants'),'customer_profile']='Young adult-Low income-No dependants'"
   ]
  },
  {
   "cell_type": "code",
   "execution_count": null,
   "id": "6c4a45dc",
   "metadata": {},
   "outputs": [],
   "source": [
    "df_keep.loc[(df_keep['age_flag']=='Young adult') & (df_keep['income_flag']=='Medium income') & (df_keep['dependants_flag']=='No dependants'),'customer_profile']='Young adult-Medium income-No dependants'"
   ]
  },
  {
   "cell_type": "code",
   "execution_count": null,
   "id": "57dc331e",
   "metadata": {},
   "outputs": [],
   "source": [
    "df_keep.loc[(df_keep['age_flag']=='Young adult') & (df_keep['income_flag']=='High income') & (df_keep['dependants_flag']=='No dependants'),'customer_profile']='Young adult-High income-No dependants'"
   ]
  },
  {
   "cell_type": "code",
   "execution_count": null,
   "id": "38c114fe",
   "metadata": {},
   "outputs": [],
   "source": [
    "df_keep.loc[(df_keep['age_flag']=='Young adult') & (df_keep['income_flag']=='Very high income') & (df_keep['dependants_flag']=='No dependants'),'customer_profile']='Young adult-Very high income-No dependants'"
   ]
  },
  {
   "cell_type": "code",
   "execution_count": null,
   "id": "2bce1ad5",
   "metadata": {},
   "outputs": [],
   "source": [
    "# Create 'customer_profile' column with profiles 5,6,7 & 8"
   ]
  },
  {
   "cell_type": "code",
   "execution_count": null,
   "id": "65dba3cf",
   "metadata": {},
   "outputs": [],
   "source": [
    "df_keep.loc[(df_keep['age_flag']=='Middle aged') & (df_keep['income_flag']=='Low income') & (df_keep['dependants_flag']=='No dependants'),'customer_profile']='Middle aged-Low income-No dependants'"
   ]
  },
  {
   "cell_type": "code",
   "execution_count": null,
   "id": "54777879",
   "metadata": {},
   "outputs": [],
   "source": [
    "df_keep.loc[(df_keep['age_flag']=='Middle aged') & (df_keep['income_flag']=='Medium income') & (df_keep['dependants_flag']=='No dependants'),'customer_profile']='Middle aged-Medium income-No dependants'"
   ]
  },
  {
   "cell_type": "code",
   "execution_count": null,
   "id": "2cab6c46",
   "metadata": {},
   "outputs": [],
   "source": [
    "df_keep.loc[(df_keep['age_flag']=='Middle aged') & (df_keep['income_flag']=='High income') & (df_keep['dependants_flag']=='No dependants'),'customer_profile']='Middle aged-High income-No dependants'"
   ]
  },
  {
   "cell_type": "code",
   "execution_count": null,
   "id": "9ef552a2",
   "metadata": {},
   "outputs": [],
   "source": [
    "df_keep.loc[(df_keep['age_flag']=='Middle aged') & (df_keep['income_flag']=='Very high income') & (df_keep['dependants_flag']=='No dependants'),'customer_profile']='Middle aged-Very high income-No dependants'"
   ]
  },
  {
   "cell_type": "code",
   "execution_count": null,
   "id": "775ffd4a",
   "metadata": {},
   "outputs": [],
   "source": [
    "# Create 'customer_profile' column with profiles 9,10,11 & 12"
   ]
  },
  {
   "cell_type": "code",
   "execution_count": null,
   "id": "8cea6e75",
   "metadata": {},
   "outputs": [],
   "source": [
    "df_keep.loc[(df_keep['age_flag']=='Senior citizen') & (df_keep['income_flag']=='Low income') & (df_keep['dependants_flag']=='No dependants'),'customer_profile']='Senior citizen-Low income-No dependants'"
   ]
  },
  {
   "cell_type": "code",
   "execution_count": null,
   "id": "4afcd6a5",
   "metadata": {},
   "outputs": [],
   "source": [
    "df_keep.loc[(df_keep['age_flag']=='Senior citizen') & (df_keep['income_flag']=='Medium income') & (df_keep['dependants_flag']=='No dependants'),'customer_profile']='Senior citizen-Medium income-No dependants'"
   ]
  },
  {
   "cell_type": "code",
   "execution_count": null,
   "id": "f129f6e5",
   "metadata": {},
   "outputs": [],
   "source": [
    "df_keep.loc[(df_keep['age_flag']=='Senior citizen') & (df_keep['income_flag']=='High income') & (df_keep['dependants_flag']=='No dependants'),'customer_profile']='Senior citizen-High income-No dependants'"
   ]
  },
  {
   "cell_type": "code",
   "execution_count": null,
   "id": "bb130121",
   "metadata": {},
   "outputs": [],
   "source": [
    "df_keep.loc[(df_keep['age_flag']=='Senior citizen') & (df_keep['income_flag']=='Very high income') & (df_keep['dependants_flag']=='No dependants'),'customer_profile']='Senior citizen-Very high income-No dependants'"
   ]
  },
  {
   "cell_type": "code",
   "execution_count": null,
   "id": "b2fc3d1b",
   "metadata": {},
   "outputs": [],
   "source": [
    "# Create 'customer_profile' column with profiles 13,14,15 & 16"
   ]
  },
  {
   "cell_type": "code",
   "execution_count": null,
   "id": "7eaf68ab",
   "metadata": {},
   "outputs": [],
   "source": [
    "df_keep.loc[(df_keep['age_flag']=='Young adult') & (df_keep['income_flag']=='Low income') & (df_keep['dependants_flag']=='Have dependants'),'customer_profile']='Young adult-Low income-Have dependants'"
   ]
  },
  {
   "cell_type": "code",
   "execution_count": null,
   "id": "ae33713d",
   "metadata": {},
   "outputs": [],
   "source": [
    "df_keep.loc[(df_keep['age_flag']=='Young adult') & (df_keep['income_flag']=='Medium income') & (df_keep['dependants_flag']=='Have dependants'),'customer_profile']='Young adult-Medium income-Have dependants'"
   ]
  },
  {
   "cell_type": "code",
   "execution_count": null,
   "id": "3114aea3",
   "metadata": {},
   "outputs": [],
   "source": [
    "df_keep.loc[(df_keep['age_flag']=='Young adult') & (df_keep['income_flag']=='High income') & (df_keep['dependants_flag']=='Have dependants'),'customer_profile']='Young adult-High income-Have dependants'"
   ]
  },
  {
   "cell_type": "code",
   "execution_count": null,
   "id": "b1f2bcee",
   "metadata": {},
   "outputs": [],
   "source": [
    "df_keep.loc[(df_keep['age_flag']=='Young adult') & (df_keep['income_flag']=='Very high income') & (df_keep['dependants_flag']=='Have dependants'),'customer_profile']='Young adult-Very high income-Have dependants'"
   ]
  },
  {
   "cell_type": "code",
   "execution_count": null,
   "id": "adc3783a",
   "metadata": {},
   "outputs": [],
   "source": [
    "# Create 'customer_profile' column with profiles 17,18,19 & 20"
   ]
  },
  {
   "cell_type": "code",
   "execution_count": null,
   "id": "13b67a26",
   "metadata": {},
   "outputs": [],
   "source": [
    "df_keep.loc[(df_keep['age_flag']=='Middle aged') & (df_keep['income_flag']=='Low income') & (df_keep['dependants_flag']=='Have dependants'),'customer_profile']='Middle aged-Low income-Have dependants'"
   ]
  },
  {
   "cell_type": "code",
   "execution_count": null,
   "id": "02ea2cd8",
   "metadata": {},
   "outputs": [],
   "source": [
    "df_keep.loc[(df_keep['age_flag']=='Middle aged') & (df_keep['income_flag']=='Medium income') & (df_keep['dependants_flag']=='Have dependants'),'customer_profile']='Middle aged-Low income-Have dependants'"
   ]
  },
  {
   "cell_type": "code",
   "execution_count": null,
   "id": "e450f48e",
   "metadata": {},
   "outputs": [],
   "source": [
    "df_keep.loc[(df_keep['age_flag']=='Middle aged') & (df_keep['income_flag']=='High income') & (df_keep['dependants_flag']=='Have dependants'),'customer_profile']='Middle aged-High income-Have dependants'"
   ]
  },
  {
   "cell_type": "code",
   "execution_count": null,
   "id": "b8e14568",
   "metadata": {},
   "outputs": [],
   "source": [
    "df_keep.loc[(df_keep['age_flag']=='Middle aged') & (df_keep['income_flag']=='Very high income') & (df_keep['dependants_flag']=='Have dependants'),'customer_profile']='Middle aged-Very high income-Have dependants'"
   ]
  },
  {
   "cell_type": "code",
   "execution_count": null,
   "id": "92a538a4",
   "metadata": {},
   "outputs": [],
   "source": [
    "# Create 'customer_profile' column with profiles 21,22,23 & 24"
   ]
  },
  {
   "cell_type": "code",
   "execution_count": null,
   "id": "a5d2559e",
   "metadata": {},
   "outputs": [],
   "source": [
    "df_keep.loc[(df_keep['age_flag']=='Senior citizen') & (df_keep['income_flag']=='Low income') & (df_keep['dependants_flag']=='Have dependants'),'customer_profile']='Senior citizen-Low income-Have dependants'"
   ]
  },
  {
   "cell_type": "code",
   "execution_count": null,
   "id": "3eecbeee",
   "metadata": {},
   "outputs": [],
   "source": [
    "df_keep.loc[(df_keep['age_flag']=='Senior citizen') & (df_keep['income_flag']=='Medium income') & (df_keep['dependants_flag']=='Have dependants'),'customer_profile']='Senior citizen-Medium income-Have dependants'"
   ]
  },
  {
   "cell_type": "code",
   "execution_count": null,
   "id": "fcdc45e0",
   "metadata": {},
   "outputs": [],
   "source": [
    "df_keep.loc[(df_keep['age_flag']=='Senior citizen') & (df_keep['income_flag']=='High income') & (df_keep['dependants_flag']=='Have dependants'),'customer_profile']='Senior citizen-High income-Have dependants'"
   ]
  },
  {
   "cell_type": "code",
   "execution_count": null,
   "id": "42841d8c",
   "metadata": {},
   "outputs": [],
   "source": [
    "df_keep.loc[(df_keep['age_flag']=='Senior citizen') & (df_keep['income_flag']=='Very high income') & (df_keep['dependants_flag']=='Have dependants'),'customer_profile']='Senior citizen-Very high income-Have dependants'"
   ]
  },
  {
   "cell_type": "code",
   "execution_count": null,
   "id": "b3424314",
   "metadata": {
    "scrolled": false
   },
   "outputs": [],
   "source": [
    "# Count of each customer_profile\n",
    "df_keep['customer_profile'].value_counts(dropna=False)"
   ]
  },
  {
   "cell_type": "code",
   "execution_count": null,
   "id": "964cfbab",
   "metadata": {
    "scrolled": true
   },
   "outputs": [],
   "source": [
    "df_keep.head()"
   ]
  },
  {
   "cell_type": "code",
   "execution_count": null,
   "id": "23f47dce",
   "metadata": {},
   "outputs": [],
   "source": [
    "# Aggregate the max, mean, and min variables on a customer-profile level for usage frequency and expenditure.\n",
    "frequency_profile=df_keep.groupby('customer_profile').agg({'days_since_previous_order':['mean', 'min', 'max']})"
   ]
  },
  {
   "cell_type": "code",
   "execution_count": null,
   "id": "64999008",
   "metadata": {},
   "outputs": [],
   "source": [
    "frequency_profile"
   ]
  },
  {
   "cell_type": "code",
   "execution_count": null,
   "id": "6d3aba5d",
   "metadata": {},
   "outputs": [],
   "source": [
    "frequency_profile.to_clipboard()"
   ]
  },
  {
   "cell_type": "code",
   "execution_count": null,
   "id": "49aa9989",
   "metadata": {},
   "outputs": [],
   "source": [
    "# Expenditure 'sum', 'mean', 'min' & 'max'\n",
    "expend_profile=df_keep.groupby('customer_profile').agg({'prices':['sum', 'mean', 'min', 'max']})"
   ]
  },
  {
   "cell_type": "code",
   "execution_count": null,
   "id": "7cbb4749",
   "metadata": {},
   "outputs": [],
   "source": [
    "expend_profile"
   ]
  },
  {
   "cell_type": "code",
   "execution_count": null,
   "id": "2514ac12",
   "metadata": {},
   "outputs": [],
   "source": [
    "expend_profile.to_clipboard()"
   ]
  },
  {
   "cell_type": "code",
   "execution_count": null,
   "id": "a9aa195c",
   "metadata": {},
   "outputs": [],
   "source": [
    "# Customer profile with regions and department"
   ]
  },
  {
   "cell_type": "code",
   "execution_count": null,
   "id": "82a52910",
   "metadata": {},
   "outputs": [],
   "source": [
    "# Link \n",
    "region_profile=df_keep[['region', 'customer_profile']]"
   ]
  },
  {
   "cell_type": "code",
   "execution_count": null,
   "id": "a866a588",
   "metadata": {},
   "outputs": [],
   "source": [
    "df_proportions = region_profile.groupby(['region', 'customer_profile']).size().unstack().div(region_profile.groupby('region').size(), axis=0)"
   ]
  },
  {
   "cell_type": "code",
   "execution_count": null,
   "id": "0e48cf5a",
   "metadata": {},
   "outputs": [],
   "source": [
    "# Data for region profile\n",
    "regions = ['Northeast', 'Midwest', 'South', 'West']\n",
    "region_profile_values = [100, 150, 200, 180]"
   ]
  },
  {
   "cell_type": "code",
   "execution_count": null,
   "id": "3172417d",
   "metadata": {},
   "outputs": [],
   "source": [
    "# Data for customer profile\n",
    "customers = ['Customer A', 'Customer B', 'Customer C', 'Customer D']\n",
    "customer_profile_values = [120, 140, 160, 180]"
   ]
  },
  {
   "cell_type": "code",
   "execution_count": null,
   "id": "f5791d01",
   "metadata": {},
   "outputs": [],
   "source": [
    "# Set the width of the bars\n",
    "bar_width = 0.35"
   ]
  },
  {
   "cell_type": "code",
   "execution_count": null,
   "id": "d93592d9",
   "metadata": {},
   "outputs": [],
   "source": [
    "# Create the bar plot for region profile\n",
    "plt.bar(np.arange(len(regions)), region_profile_values, bar_width, label='Region Profile', color='blue')"
   ]
  },
  {
   "cell_type": "code",
   "execution_count": null,
   "id": "103eec11",
   "metadata": {},
   "outputs": [],
   "source": [
    "# Create the bar plot for customer profile\n",
    "plt.bar(np.arange(len(customers)) + bar_width, customer_profile_values, bar_width, label='Customer Profile', color='green')"
   ]
  },
  {
   "cell_type": "code",
   "execution_count": null,
   "id": "d3328016",
   "metadata": {},
   "outputs": [],
   "source": [
    "total_categories = len(regions) + len(customers)"
   ]
  },
  {
   "cell_type": "code",
   "execution_count": null,
   "id": "a2eb3c54",
   "metadata": {},
   "outputs": [],
   "source": [
    "plt.xticks(np.arange(total_categories) + bar_width / 2, regions + customers)"
   ]
  },
  {
   "cell_type": "code",
   "execution_count": null,
   "id": "b78b109b",
   "metadata": {},
   "outputs": [],
   "source": [
    "plt.xlabel('Regions and Customers')"
   ]
  },
  {
   "cell_type": "code",
   "execution_count": null,
   "id": "1c9f5106",
   "metadata": {
    "scrolled": false
   },
   "outputs": [],
   "source": [
    "plt.ylabel('Profile Value')"
   ]
  },
  {
   "cell_type": "code",
   "execution_count": null,
   "id": "2d896c93",
   "metadata": {},
   "outputs": [],
   "source": [
    "plt.tight_layout()"
   ]
  },
  {
   "cell_type": "code",
   "execution_count": null,
   "id": "ebf796c1",
   "metadata": {},
   "outputs": [],
   "source": [
    "plt.xlabel('Regions and Customers')\n",
    "plt.ylabel('Profile Value')\n",
    "plt.tight_layout()"
   ]
  },
  {
   "cell_type": "code",
   "execution_count": null,
   "id": "d392e4d9",
   "metadata": {},
   "outputs": [],
   "source": [
    "# Export visualisation\n",
    "plt.savefig(os.path.join(path, '04 Analysis', 'Visualizations', 'reg_cust.png'), bbox_inches='tight', pad_inches=0.1)"
   ]
  },
  {
   "cell_type": "code",
   "execution_count": null,
   "id": "704bdcc6",
   "metadata": {},
   "outputs": [],
   "source": [
    "# Show plot\n",
    "plt.show()"
   ]
  }
 ],
 "metadata": {
  "kernelspec": {
   "display_name": "Python 3 (ipykernel)",
   "language": "python",
   "name": "python3"
  },
  "language_info": {
   "codemirror_mode": {
    "name": "ipython",
    "version": 3
   },
   "file_extension": ".py",
   "mimetype": "text/x-python",
   "name": "python",
   "nbconvert_exporter": "python",
   "pygments_lexer": "ipython3",
   "version": "3.11.5"
  }
 },
 "nbformat": 4,
 "nbformat_minor": 5
}
