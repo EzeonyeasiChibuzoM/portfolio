{
 "cells": [
  {
   "cell_type": "markdown",
   "id": "3911f6f3",
   "metadata": {},
   "source": [
    "01 Importing libraries"
   ]
  },
  {
   "cell_type": "code",
   "execution_count": 2,
   "id": "3421c709",
   "metadata": {},
   "outputs": [],
   "source": [
    "# Import libraries\n",
    "# import pandas as pd\n",
    "# import numpy as np\n",
    "# import os"
   ]
  },
  {
   "cell_type": "markdown",
   "id": "5a28205c",
   "metadata": {},
   "source": [
    "02 Data types"
   ]
  },
  {
   "cell_type": "code",
   "execution_count": 3,
   "id": "fa07c074",
   "metadata": {},
   "outputs": [],
   "source": [
    "x = 10"
   ]
  },
  {
   "cell_type": "code",
   "execution_count": 4,
   "id": "d4443e71",
   "metadata": {},
   "outputs": [
    {
     "name": "stdout",
     "output_type": "stream",
     "text": [
      "10\n"
     ]
    }
   ],
   "source": [
    "print(x)"
   ]
  },
  {
   "cell_type": "code",
   "execution_count": 5,
   "id": "e66f097d",
   "metadata": {},
   "outputs": [
    {
     "data": {
      "text/plain": [
       "int"
      ]
     },
     "execution_count": 5,
     "metadata": {},
     "output_type": "execute_result"
    }
   ],
   "source": [
    "type(x)"
   ]
  },
  {
   "cell_type": "code",
   "execution_count": 6,
   "id": "eb13c0e8",
   "metadata": {},
   "outputs": [
    {
     "data": {
      "text/plain": [
       "100"
      ]
     },
     "execution_count": 6,
     "metadata": {},
     "output_type": "execute_result"
    }
   ],
   "source": [
    "x + 80 + x"
   ]
  },
  {
   "cell_type": "code",
   "execution_count": 7,
   "id": "55632f0a",
   "metadata": {},
   "outputs": [
    {
     "data": {
      "text/plain": [
       "100"
      ]
     },
     "execution_count": 7,
     "metadata": {},
     "output_type": "execute_result"
    }
   ],
   "source": [
    "110 - x"
   ]
  },
  {
   "cell_type": "code",
   "execution_count": 8,
   "id": "74341a38",
   "metadata": {},
   "outputs": [
    {
     "data": {
      "text/plain": [
       "100"
      ]
     },
     "execution_count": 8,
     "metadata": {},
     "output_type": "execute_result"
    }
   ],
   "source": [
    "x * x"
   ]
  },
  {
   "cell_type": "code",
   "execution_count": 9,
   "id": "e853e679",
   "metadata": {},
   "outputs": [],
   "source": [
    "a = 12.50"
   ]
  },
  {
   "cell_type": "code",
   "execution_count": 10,
   "id": "cd5db306",
   "metadata": {},
   "outputs": [
    {
     "data": {
      "text/plain": [
       "float"
      ]
     },
     "execution_count": 10,
     "metadata": {},
     "output_type": "execute_result"
    }
   ],
   "source": [
    "type(a)"
   ]
  },
  {
   "cell_type": "code",
   "execution_count": 11,
   "id": "4796bdec",
   "metadata": {},
   "outputs": [],
   "source": [
    "b = 15.75"
   ]
  },
  {
   "cell_type": "code",
   "execution_count": 12,
   "id": "2896d61d",
   "metadata": {},
   "outputs": [
    {
     "data": {
      "text/plain": [
       "float"
      ]
     },
     "execution_count": 12,
     "metadata": {},
     "output_type": "execute_result"
    }
   ],
   "source": [
    "type(b)"
   ]
  },
  {
   "cell_type": "code",
   "execution_count": 13,
   "id": "47a001fe",
   "metadata": {},
   "outputs": [
    {
     "data": {
      "text/plain": [
       "0.7936507936507936"
      ]
     },
     "execution_count": 13,
     "metadata": {},
     "output_type": "execute_result"
    }
   ],
   "source": [
    "a / b"
   ]
  },
  {
   "cell_type": "code",
   "execution_count": 24,
   "id": "945c75eb",
   "metadata": {},
   "outputs": [],
   "source": [
    "c = 'Good'"
   ]
  },
  {
   "cell_type": "code",
   "execution_count": 25,
   "id": "0839371e",
   "metadata": {},
   "outputs": [],
   "source": [
    "d = 'day'"
   ]
  },
  {
   "cell_type": "code",
   "execution_count": 26,
   "id": "62b39fe6",
   "metadata": {},
   "outputs": [
    {
     "data": {
      "text/plain": [
       "'Goodday'"
      ]
     },
     "execution_count": 26,
     "metadata": {},
     "output_type": "execute_result"
    }
   ],
   "source": [
    "c + d"
   ]
  },
  {
   "cell_type": "code",
   "execution_count": 27,
   "id": "b559ef6c",
   "metadata": {},
   "outputs": [],
   "source": [
    "e = 'morning'"
   ]
  },
  {
   "cell_type": "code",
   "execution_count": 28,
   "id": "b43d66af",
   "metadata": {},
   "outputs": [],
   "source": [
    "f = 'my'"
   ]
  },
  {
   "cell_type": "code",
   "execution_count": 29,
   "id": "30c25680",
   "metadata": {},
   "outputs": [],
   "source": [
    "g = 'friend'"
   ]
  },
  {
   "cell_type": "code",
   "execution_count": 30,
   "id": "6184b113",
   "metadata": {},
   "outputs": [],
   "source": [
    "h = 'ladies'"
   ]
  },
  {
   "cell_type": "code",
   "execution_count": 31,
   "id": "e649ec8b",
   "metadata": {},
   "outputs": [],
   "source": [
    "i = 'and'"
   ]
  },
  {
   "cell_type": "code",
   "execution_count": 32,
   "id": "3791a5e6",
   "metadata": {},
   "outputs": [],
   "source": [
    "j = 'gentleman'"
   ]
  },
  {
   "cell_type": "code",
   "execution_count": 34,
   "id": "f3d84e81",
   "metadata": {},
   "outputs": [
    {
     "data": {
      "text/plain": [
       "'Goodday my friend'"
      ]
     },
     "execution_count": 34,
     "metadata": {},
     "output_type": "execute_result"
    }
   ],
   "source": [
    "c + d + ' ' + f + ' ' + g"
   ]
  },
  {
   "cell_type": "code",
   "execution_count": 35,
   "id": "e81a83f2",
   "metadata": {},
   "outputs": [
    {
     "data": {
      "text/plain": [
       "'Goodmorning ladies and gentleman'"
      ]
     },
     "execution_count": 35,
     "metadata": {},
     "output_type": "execute_result"
    }
   ],
   "source": [
    "c + e + ' ' + h + ' ' + i + ' ' + j"
   ]
  }
 ],
 "metadata": {
  "kernelspec": {
   "display_name": "Python 3 (ipykernel)",
   "language": "python",
   "name": "python3"
  },
  "language_info": {
   "codemirror_mode": {
    "name": "ipython",
    "version": 3
   },
   "file_extension": ".py",
   "mimetype": "text/x-python",
   "name": "python",
   "nbconvert_exporter": "python",
   "pygments_lexer": "ipython3",
   "version": "3.11.5"
  }
 },
 "nbformat": 4,
 "nbformat_minor": 5
}
